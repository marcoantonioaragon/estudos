{
 "cells": [
  {
   "cell_type": "code",
   "execution_count": 1,
   "metadata": {},
   "outputs": [],
   "source": [
    "from mann_whitney import TesteMannWhitney"
   ]
  },
  {
   "cell_type": "code",
   "execution_count": 2,
   "metadata": {},
   "outputs": [
    {
     "name": "stdout",
     "output_type": "stream",
     "text": [
      "Resultados do Teste de Mann-Whitney:\n"
     ]
    },
    {
     "data": {
      "text/plain": [
       "{'estatistica_u': -25.0,\n",
       " 'valor_p': 3.354454491955039e-10,\n",
       " 'alpha': 0.05,\n",
       " 'resultado': 'Há diferenças significativas entre as medianas (rejeitamos a hipótese nula).'}"
      ]
     },
     "execution_count": 2,
     "metadata": {},
     "output_type": "execute_result"
    }
   ],
   "source": [
    "# Estatísticas agregadas dos grupos\n",
    "tamanho_amostra_grupo_a = 20  # Tamanho da amostra do grupo A\n",
    "tamanho_amostra_grupo_b = 25  # Tamanho da amostra do grupo B\n",
    "soma_postos_grupo_a = 250  # Soma dos postos do grupo A\n",
    "soma_postos_grupo_b = 300  # Soma dos postos do grupo B\n",
    "\n",
    "# Criando uma instância da classe TesteMannWhitney\n",
    "teste = TesteMannWhitney(tamanho_amostra_grupo_a, tamanho_amostra_grupo_b, soma_postos_grupo_a, soma_postos_grupo_b)\n",
    "\n",
    "# Realizando o teste\n",
    "resultados = teste.realizar_teste(alpha=0.05)\n",
    "\n",
    "# Exibindo os resultados\n",
    "print(\"Resultados do Teste de Mann-Whitney:\")\n",
    "resultados"
   ]
  },
  {
   "cell_type": "code",
   "execution_count": 2,
   "metadata": {},
   "outputs": [
    {
     "data": {
      "text/plain": [
       "{'estatistica_u': -25.0,\n",
       " 'valor_p': 1.0,\n",
       " 'alpha': 0.05,\n",
       " 'resultado': 'Não há diferenças significativas entre as medianas (não rejeitamos a hipótese nula).'}"
      ]
     },
     "execution_count": 2,
     "metadata": {},
     "output_type": "execute_result"
    }
   ],
   "source": [
    "import scipy.stats as stats\n",
    "\n",
    "# Dados fornecidos\n",
    "tamanho_amostra_grupo_a = 20  # Tamanho da amostra do grupo A\n",
    "tamanho_amostra_grupo_b = 25  # Tamanho da amostra do grupo B\n",
    "soma_postos_grupo_a = 250  # Soma dos postos do grupo A\n",
    "soma_postos_grupo_b = 300  # Soma dos postos do grupo B\n",
    "\n",
    "# Função para calcular o teste de Mann-Whitney U\n",
    "def mann_whitney_u(n1, n2, soma_postos1, soma_postos2):\n",
    "    # Calcular as estatísticas U para cada grupo\n",
    "    u1 = soma_postos1 - (n1 * (n1 + 1)) / 2\n",
    "    u2 = soma_postos2 - (n2 * (n2 + 1)) / 2\n",
    "    \n",
    "    # A estatística U é o menor valor entre u1 e u2\n",
    "    estatistica_u = min(u1, u2)\n",
    "    \n",
    "    # Calcular o valor p usando a distribuição normal (aproximação para grandes amostras)\n",
    "    valor_p = stats.mannwhitneyu([1] * n1, [1] * n2, alternative='two-sided').pvalue\n",
    "    \n",
    "    # Definir o nível de significância (alpha)\n",
    "    alpha = 0.05\n",
    "    \n",
    "    # Decisão sobre a hipótese nula\n",
    "    if valor_p < alpha:\n",
    "        resultado = \"Há diferenças significativas entre as medianas (rejeitamos a hipótese nula).\"\n",
    "    else:\n",
    "        resultado = \"Não há diferenças significativas entre as medianas (não rejeitamos a hipótese nula).\"\n",
    "    \n",
    "    return {\n",
    "        'estatistica_u': estatistica_u,\n",
    "        'valor_p': valor_p,\n",
    "        'alpha': alpha,\n",
    "        'resultado': resultado\n",
    "    }\n",
    "\n",
    "# Executar o teste de Mann-Whitney U\n",
    "resultado_mann_whitney = mann_whitney_u(tamanho_amostra_grupo_a, tamanho_amostra_grupo_b, soma_postos_grupo_a, soma_postos_grupo_b)\n",
    "resultado_mann_whitney"
   ]
  }
 ],
 "metadata": {
  "kernelspec": {
   "display_name": "base",
   "language": "python",
   "name": "python3"
  },
  "language_info": {
   "codemirror_mode": {
    "name": "ipython",
    "version": 3
   },
   "file_extension": ".py",
   "mimetype": "text/x-python",
   "name": "python",
   "nbconvert_exporter": "python",
   "pygments_lexer": "ipython3",
   "version": "3.12.4"
  }
 },
 "nbformat": 4,
 "nbformat_minor": 2
}
