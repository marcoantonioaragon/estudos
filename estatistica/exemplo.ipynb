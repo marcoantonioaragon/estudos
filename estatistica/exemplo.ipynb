{
 "cells": [
  {
   "cell_type": "code",
   "execution_count": 1,
   "metadata": {},
   "outputs": [
    {
     "ename": "ModuleNotFoundError",
     "evalue": "No module named 'estatistica'",
     "output_type": "error",
     "traceback": [
      "\u001b[1;31m---------------------------------------------------------------------------\u001b[0m",
      "\u001b[1;31mModuleNotFoundError\u001b[0m                       Traceback (most recent call last)",
      "Cell \u001b[1;32mIn[1], line 1\u001b[0m\n\u001b[1;32m----> 1\u001b[0m \u001b[38;5;28;01mfrom\u001b[39;00m \u001b[38;5;21;01mestatistica\u001b[39;00m \u001b[38;5;28;01mimport\u001b[39;00m MotorEstatistico\n\u001b[0;32m      3\u001b[0m \u001b[38;5;66;03m# Dados de exemplo\u001b[39;00m\n\u001b[0;32m      4\u001b[0m grupos \u001b[38;5;241m=\u001b[39m [\n\u001b[0;32m      5\u001b[0m     {\n\u001b[0;32m      6\u001b[0m         \u001b[38;5;124m\"\u001b[39m\u001b[38;5;124mmedia\u001b[39m\u001b[38;5;124m\"\u001b[39m: \u001b[38;5;241m24.8\u001b[39m,\n\u001b[1;32m   (...)\u001b[0m\n\u001b[0;32m     20\u001b[0m     }\n\u001b[0;32m     21\u001b[0m ]\n",
      "\u001b[1;31mModuleNotFoundError\u001b[0m: No module named 'estatistica'"
     ]
    }
   ],
   "source": [
    "from estatistica import MotorEstatistico\n",
    "\n",
    "# Dados de exemplo\n",
    "grupos = [\n",
    "    {\n",
    "        \"media\": 24.8,\n",
    "        \"tamanho\": 5,\n",
    "        \"desvio_padrao\": 2.28,\n",
    "        \"dados\": [23, 25, 24, 26, 24],  # Dados brutos para teste de normalidade\n",
    "        \"soma_postos\": 250,  # Necessário para Mann-Whitney\n",
    "        \"taxa_conversao\": 0.2  # Necessário para Qui-Quadrado\n",
    "    },\n",
    "    {\n",
    "        \"media\": 30.0,\n",
    "        \"tamanho\": 5,\n",
    "        \"desvio_padrao\": 1.58,\n",
    "        \"dados\": [29, 31, 30, 30, 30],  # Dados brutos para teste de normalidade\n",
    "        \"soma_postos\": 300,  # Necessário para Mann-Whitney\n",
    "        \"taxa_conversao\": 0.25  # Necessário para Qui-Quadrado\n",
    "    }\n",
    "]\n",
    "\n",
    "# Criando o motor estatístico\n",
    "motor = MotorEstatistico(grupos)\n",
    "\n",
    "# Realizando o teste\n",
    "resultados = motor.realizar_teste(alpha=0.05)\n",
    "print(resultados)"
   ]
  },
  {
   "cell_type": "code",
   "execution_count": null,
   "metadata": {},
   "outputs": [],
   "source": []
  }
 ],
 "metadata": {
  "kernelspec": {
   "display_name": "base",
   "language": "python",
   "name": "python3"
  },
  "language_info": {
   "codemirror_mode": {
    "name": "ipython",
    "version": 3
   },
   "file_extension": ".py",
   "mimetype": "text/x-python",
   "name": "python",
   "nbconvert_exporter": "python",
   "pygments_lexer": "ipython3",
   "version": "3.12.4"
  }
 },
 "nbformat": 4,
 "nbformat_minor": 2
}
