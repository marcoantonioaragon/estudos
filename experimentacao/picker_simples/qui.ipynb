{
 "cells": [
  {
   "cell_type": "code",
   "execution_count": 1,
   "metadata": {},
   "outputs": [],
   "source": [
    "from qui import TesteQuiQuadradoProporcoes"
   ]
  },
  {
   "cell_type": "code",
   "execution_count": 4,
   "metadata": {},
   "outputs": [
    {
     "name": "stdout",
     "output_type": "stream",
     "text": [
      "Resultados do Teste Qui-Quadrado (2 Variantes):\n"
     ]
    },
    {
     "data": {
      "text/plain": [
       "{'estatistica_qui_quadrado': 5.555555555555553,\n",
       " 'graus_liberdade': 1,\n",
       " 'valor_p': 0.06182920157992833,\n",
       " 'alpha': 0.05,\n",
       " 'sentido': 'bilateral',\n",
       " 'resultado': 'Não há diferenças significativas entre as proporções (não rejeitamos a hipótese nula).'}"
      ]
     },
     "execution_count": 4,
     "metadata": {},
     "output_type": "execute_result"
    }
   ],
   "source": [
    "# Exemplo com 2 variantes\n",
    "n_grupos_2 = [1000, 1000]  # Tamanhos das amostras dos grupos\n",
    "taxas_conversao_2 = [0.2, 0.25]  # Taxas de conversão dos grupos\n",
    "\n",
    "teste_2 = TesteQuiQuadradoProporcoes(n_grupos_2, taxas_conversao_2)\n",
    "resultados_2 = teste_2.realizar_teste(alpha=0.05)\n",
    "print(\"Resultados do Teste Qui-Quadrado (2 Variantes):\")\n",
    "resultados_2"
   ]
  },
  {
   "cell_type": "code",
   "execution_count": 1,
   "metadata": {},
   "outputs": [
    {
     "data": {
      "text/plain": [
       "{'estatistica_qui_quadrado': 6.8845878136200716,\n",
       " 'graus_liberdade': 1,\n",
       " 'valor_p': 0.008694211461790793,\n",
       " 'alpha': 0.05,\n",
       " 'sentido': 'bilateral',\n",
       " 'resultado': 'Há diferenças significativas entre as proporções (rejeitamos a hipótese nula).'}"
      ]
     },
     "execution_count": 1,
     "metadata": {},
     "output_type": "execute_result"
    }
   ],
   "source": [
    "import scipy.stats as stats\n",
    "\n",
    "# Dados fornecidos\n",
    "n_grupos = [1000, 1000]  # Tamanhos das amostras dos grupos\n",
    "taxas_conversao = [0.2, 0.25]  # Taxas de conversão dos grupos\n",
    "\n",
    "# Função para calcular o teste de Qui-Quadrado para proporções\n",
    "def qui_quadrado_proporcoes(n_grupos, taxas_conversao):\n",
    "    # Calcular o número de sucessos em cada grupo\n",
    "    sucessos = [int(n * p) for n, p in zip(n_grupos, taxas_conversao)]\n",
    "    \n",
    "    # Calcular o número de falhas em cada grupo\n",
    "    falhas = [n - s for n, s in zip(n_grupos, sucessos)]\n",
    "    \n",
    "    # Criar a tabela de contingência\n",
    "    tabela_contingencia = [sucessos, falhas]\n",
    "    \n",
    "    # Realizar o teste de Qui-Quadrado\n",
    "    estatistica_qui_quadrado, valor_p, graus_liberdade, _ = stats.chi2_contingency(tabela_contingencia)\n",
    "    \n",
    "    # Definir o nível de significância (alpha)\n",
    "    alpha = 0.05\n",
    "    \n",
    "    # Decisão sobre a hipótese nula\n",
    "    if valor_p < alpha:\n",
    "        resultado = \"Há diferenças significativas entre as proporções (rejeitamos a hipótese nula).\"\n",
    "    else:\n",
    "        resultado = \"Não há diferenças significativas entre as proporções (não rejeitamos a hipótese nula).\"\n",
    "    \n",
    "    return {\n",
    "        'estatistica_qui_quadrado': estatistica_qui_quadrado,\n",
    "        'graus_liberdade': graus_liberdade,\n",
    "        'valor_p': valor_p,\n",
    "        'alpha': alpha,\n",
    "        'sentido': 'bilateral',\n",
    "        'resultado': resultado\n",
    "    }\n",
    "\n",
    "# Executar o teste de Qui-Quadrado\n",
    "resultado_qui_quadrado = qui_quadrado_proporcoes(n_grupos, taxas_conversao)\n",
    "resultado_qui_quadrado"
   ]
  },
  {
   "cell_type": "code",
   "execution_count": null,
   "metadata": {},
   "outputs": [
    {
     "name": "stdout",
     "output_type": "stream",
     "text": [
      "Resultados do Teste Qui-Quadrado (3 Variantes):\n"
     ]
    },
    {
     "data": {
      "text/plain": [
       "{'estatistica_qui_quadrado': 13.42465753424658,\n",
       " 'graus_liberdade': 2,\n",
       " 'valor_p': 0.004568243779817793,\n",
       " 'alpha': 0.05,\n",
       " 'sentido': 'bilateral',\n",
       " 'resultado': 'Há diferenças significativas entre as proporções (rejeitamos a hipótese nula).'}"
      ]
     },
     "execution_count": 5,
     "metadata": {},
     "output_type": "execute_result"
    }
   ],
   "source": [
    "# Exemplo com 3 variantes\n",
    "n_grupos_2 = [1000, 1000, 1000]  # Tamanhos das amostras dos grupos\n",
    "taxas_conversao_2 = [0.2, 0.25, 0.28]  # Taxas de conversão dos grupos\n",
    "\n",
    "teste_2 = TesteQuiQuadradoProporcoes(n_grupos_2, taxas_conversao_2)\n",
    "resultados_2 = teste_2.realizar_teste(alpha=0.05)\n",
    "print(\"Resultados do Teste Qui-Quadrado (3 Variantes):\")\n",
    "resultados_2"
   ]
  },
  {
   "cell_type": "code",
   "execution_count": 3,
   "metadata": {},
   "outputs": [
    {
     "data": {
      "text/plain": [
       "{'estatistica_qui_quadrado': 17.74183815098666,\n",
       " 'graus_liberdade': 2,\n",
       " 'valor_p': 0.00014041347776630545,\n",
       " 'alpha': 0.05,\n",
       " 'sentido': 'bilateral',\n",
       " 'resultado': 'Há diferenças significativas entre as proporções (rejeitamos a hipótese nula).'}"
      ]
     },
     "execution_count": 3,
     "metadata": {},
     "output_type": "execute_result"
    }
   ],
   "source": [
    "import scipy.stats as stats\n",
    "\n",
    "# Dados fornecidos\n",
    "n_grupos = [1000, 1000, 1000]  # Tamanhos das amostras dos grupos\n",
    "taxas_conversao = [0.2, 0.25, 0.28]  # Taxas de conversão dos grupos\n",
    "\n",
    "# Função para calcular o teste de Qui-Quadrado para proporções\n",
    "def qui_quadrado_proporcoes(n_grupos, taxas_conversao):\n",
    "    # Calcular o número de sucessos em cada grupo\n",
    "    sucessos = [int(n * p) for n, p in zip(n_grupos, taxas_conversao)]\n",
    "    \n",
    "    # Calcular o número de falhas em cada grupo\n",
    "    falhas = [n - s for n, s in zip(n_grupos, sucessos)]\n",
    "    \n",
    "    # Criar a tabela de contingência\n",
    "    tabela_contingencia = [sucessos, falhas]\n",
    "    \n",
    "    # Realizar o teste de Qui-Quadrado\n",
    "    estatistica_qui_quadrado, valor_p, graus_liberdade, _ = stats.chi2_contingency(tabela_contingencia)\n",
    "    \n",
    "    # Definir o nível de significância (alpha)\n",
    "    alpha = 0.05\n",
    "    \n",
    "    # Decisão sobre a hipótese nula\n",
    "    if valor_p < alpha:\n",
    "        resultado = \"Há diferenças significativas entre as proporções (rejeitamos a hipótese nula).\"\n",
    "    else:\n",
    "        resultado = \"Não há diferenças significativas entre as proporções (não rejeitamos a hipótese nula).\"\n",
    "    \n",
    "    return {\n",
    "        'estatistica_qui_quadrado': estatistica_qui_quadrado,\n",
    "        'graus_liberdade': graus_liberdade,\n",
    "        'valor_p': valor_p,\n",
    "        'alpha': alpha,\n",
    "        'sentido': 'bilateral',\n",
    "        'resultado': resultado\n",
    "    }\n",
    "\n",
    "# Executar o teste de Qui-Quadrado\n",
    "resultado_qui_quadrado = qui_quadrado_proporcoes(n_grupos, taxas_conversao)\n",
    "resultado_qui_quadrado"
   ]
  }
 ],
 "metadata": {
  "kernelspec": {
   "display_name": "base",
   "language": "python",
   "name": "python3"
  },
  "language_info": {
   "codemirror_mode": {
    "name": "ipython",
    "version": 3
   },
   "file_extension": ".py",
   "mimetype": "text/x-python",
   "name": "python",
   "nbconvert_exporter": "python",
   "pygments_lexer": "ipython3",
   "version": "3.12.4"
  }
 },
 "nbformat": 4,
 "nbformat_minor": 2
}
