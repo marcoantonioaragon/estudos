{
 "cells": [
  {
   "cell_type": "code",
   "execution_count": 1,
   "metadata": {},
   "outputs": [],
   "source": [
    "from qui import TesteQuiQuadradoProporcoes"
   ]
  },
  {
   "cell_type": "code",
   "execution_count": 4,
   "metadata": {},
   "outputs": [
    {
     "name": "stdout",
     "output_type": "stream",
     "text": [
      "Resultados do Teste Qui-Quadrado (2 Variantes):\n"
     ]
    },
    {
     "data": {
      "text/plain": [
       "{'estatistica_qui_quadrado': 5.555555555555553,\n",
       " 'graus_liberdade': 1,\n",
       " 'valor_p': 0.06182920157992833,\n",
       " 'alpha': 0.05,\n",
       " 'sentido': 'bilateral',\n",
       " 'resultado': 'Não há diferenças significativas entre as proporções (não rejeitamos a hipótese nula).'}"
      ]
     },
     "execution_count": 4,
     "metadata": {},
     "output_type": "execute_result"
    }
   ],
   "source": [
    "# Exemplo com 2 variantes\n",
    "n_grupos_2 = [1000, 1000]  # Tamanhos das amostras dos grupos\n",
    "taxas_conversao_2 = [0.2, 0.25]  # Taxas de conversão dos grupos\n",
    "\n",
    "teste_2 = TesteQuiQuadradoProporcoes(n_grupos_2, taxas_conversao_2)\n",
    "resultados_2 = teste_2.realizar_teste(alpha=0.05)\n",
    "print(\"Resultados do Teste Qui-Quadrado (2 Variantes):\")\n",
    "resultados_2"
   ]
  },
  {
   "cell_type": "code",
   "execution_count": 5,
   "metadata": {},
   "outputs": [
    {
     "name": "stdout",
     "output_type": "stream",
     "text": [
      "Resultados do Teste Qui-Quadrado (3 Variantes):\n"
     ]
    },
    {
     "data": {
      "text/plain": [
       "{'estatistica_qui_quadrado': 13.42465753424658,\n",
       " 'graus_liberdade': 2,\n",
       " 'valor_p': 0.004568243779817793,\n",
       " 'alpha': 0.05,\n",
       " 'sentido': 'bilateral',\n",
       " 'resultado': 'Há diferenças significativas entre as proporções (rejeitamos a hipótese nula).'}"
      ]
     },
     "execution_count": 5,
     "metadata": {},
     "output_type": "execute_result"
    }
   ],
   "source": [
    "# Exemplo com 2 variantes\n",
    "n_grupos_2 = [1000, 1000, 1000]  # Tamanhos das amostras dos grupos\n",
    "taxas_conversao_2 = [0.2, 0.25, 0.28]  # Taxas de conversão dos grupos\n",
    "\n",
    "teste_2 = TesteQuiQuadradoProporcoes(n_grupos_2, taxas_conversao_2)\n",
    "resultados_2 = teste_2.realizar_teste(alpha=0.05)\n",
    "print(\"Resultados do Teste Qui-Quadrado (3 Variantes):\")\n",
    "resultados_2"
   ]
  },
  {
   "cell_type": "code",
   "execution_count": null,
   "metadata": {},
   "outputs": [],
   "source": []
  }
 ],
 "metadata": {
  "kernelspec": {
   "display_name": "base",
   "language": "python",
   "name": "python3"
  },
  "language_info": {
   "codemirror_mode": {
    "name": "ipython",
    "version": 3
   },
   "file_extension": ".py",
   "mimetype": "text/x-python",
   "name": "python",
   "nbconvert_exporter": "python",
   "pygments_lexer": "ipython3",
   "version": "3.12.4"
  }
 },
 "nbformat": 4,
 "nbformat_minor": 2
}
