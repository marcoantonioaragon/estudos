{
 "cells": [
  {
   "cell_type": "code",
   "execution_count": 11,
   "metadata": {},
   "outputs": [],
   "source": [
    "from anova import ANOVA, ANOVAWelch\n",
    "import math"
   ]
  },
  {
   "cell_type": "code",
   "execution_count": 12,
   "metadata": {},
   "outputs": [],
   "source": [
    "# Estatísticas agregadas dos grupos (média, tamanho da amostra, desvio padrão)\n",
    "grupo1 = (24.8, 5, math.sqrt(5.2))\n",
    "grupo2 = (30.0, 5, math.sqrt(2.5))\n",
    "grupo3 = (22.0, 5, math.sqrt(2.5))\n",
    "grupo4 = (28.0, 5, math.sqrt(3.0))"
   ]
  },
  {
   "cell_type": "code",
   "execution_count": 13,
   "metadata": {},
   "outputs": [
    {
     "name": "stdout",
     "output_type": "stream",
     "text": [
      "Resultados do Teste ANOVA Tradicional:\n"
     ]
    },
    {
     "data": {
      "text/plain": [
       "{'media_geral': 26.2,\n",
       " 'sq_entre': 186.39999999999998,\n",
       " 'sq_dentro': 52.800000000000004,\n",
       " 'gl_entre': 3,\n",
       " 'gl_dentro': 16,\n",
       " 'valor_f': 18.828282828282823,\n",
       " 'valor_p': 0.001176662123983041,\n",
       " 'alpha': 0.01,\n",
       " 'resultado': 'Há diferenças significativas entre os grupos (rejeitamos a hipótese nula).'}"
      ]
     },
     "execution_count": 13,
     "metadata": {},
     "output_type": "execute_result"
    }
   ],
   "source": [
    "# Teste ANOVA tradicional\n",
    "anova_teste = ANOVA(grupo1, grupo2, grupo3, grupo4)\n",
    "resultados_anova = anova_teste.realizar_teste(alpha=0.01)\n",
    "print(\"Resultados do Teste ANOVA Tradicional:\")\n",
    "resultados_anova"
   ]
  },
  {
   "cell_type": "code",
   "execution_count": 14,
   "metadata": {},
   "outputs": [
    {
     "name": "stdout",
     "output_type": "stream",
     "text": [
      "\n",
      "Resultados do Teste ANOVA de Welch:\n"
     ]
    },
    {
     "data": {
      "text/plain": [
       "{'media_ponderada': 26.328820116054157,\n",
       " 'sq_entre': 71.3346228239845,\n",
       " 'gl_ajustados': 5.00562289609581,\n",
       " 'valor_f': 23.778207607994833,\n",
       " 'valor_p': 0.0021738037914755975,\n",
       " 'alpha': 0.01,\n",
       " 'resultado': 'Há diferenças significativas entre os grupos (rejeitamos a hipótese nula).'}"
      ]
     },
     "execution_count": 14,
     "metadata": {},
     "output_type": "execute_result"
    }
   ],
   "source": [
    "# Teste ANOVA de Welch\n",
    "anova_welch_teste = ANOVAWelch(grupo1, grupo2, grupo3, grupo4)\n",
    "resultados_anova_welch = anova_welch_teste.realizar_teste(alpha=0.01)\n",
    "print(\"\\nResultados do Teste ANOVA de Welch:\")\n",
    "resultados_anova_welch"
   ]
  }
 ],
 "metadata": {
  "kernelspec": {
   "display_name": "base",
   "language": "python",
   "name": "python3"
  },
  "language_info": {
   "codemirror_mode": {
    "name": "ipython",
    "version": 3
   },
   "file_extension": ".py",
   "mimetype": "text/x-python",
   "name": "python",
   "nbconvert_exporter": "python",
   "pygments_lexer": "ipython3",
   "version": "3.12.4"
  }
 },
 "nbformat": 4,
 "nbformat_minor": 2
}
