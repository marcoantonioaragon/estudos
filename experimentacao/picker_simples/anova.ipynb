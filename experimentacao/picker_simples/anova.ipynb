{
 "cells": [
  {
   "cell_type": "code",
   "execution_count": 2,
   "metadata": {},
   "outputs": [],
   "source": [
    "from anova import ANOVA, ANOVAWelch\n",
    "import math"
   ]
  },
  {
   "cell_type": "code",
   "execution_count": 3,
   "metadata": {},
   "outputs": [],
   "source": [
    "# Estatísticas agregadas dos grupos (média, tamanho da amostra, desvio padrão)\n",
    "grupo1 = (24.8, 5, math.sqrt(5.2))\n",
    "grupo2 = (30.0, 5, math.sqrt(2.5))\n",
    "grupo3 = (22.0, 5, math.sqrt(2.5))\n",
    "grupo4 = (28.0, 5, math.sqrt(3.0))"
   ]
  },
  {
   "cell_type": "code",
   "execution_count": 4,
   "metadata": {},
   "outputs": [
    {
     "name": "stdout",
     "output_type": "stream",
     "text": [
      "Resultados do Teste ANOVA Tradicional:\n"
     ]
    },
    {
     "data": {
      "text/plain": [
       "{'media_geral': 26.2,\n",
       " 'soma_quadrados_entre_grupos': 186.39999999999998,\n",
       " 'soma_quadrados_dentro_grupos': 52.800000000000004,\n",
       " 'graus_liberdade_entre_grupos': 3,\n",
       " 'graus_liberdade_dentro_grupos': 16,\n",
       " 'valor_f': 18.828282828282823,\n",
       " 'valor_p': 0.001176662123983041,\n",
       " 'alpha': 0.01,\n",
       " 'resultado': 'Há diferenças significativas entre os grupos (rejeitamos a hipótese nula).'}"
      ]
     },
     "execution_count": 4,
     "metadata": {},
     "output_type": "execute_result"
    }
   ],
   "source": [
    "# Teste ANOVA tradicional\n",
    "anova_teste = ANOVA(grupo1, grupo2, grupo3, grupo4)\n",
    "resultados_anova = anova_teste.realizar_teste(alpha=0.01)\n",
    "print(\"Resultados do Teste ANOVA Tradicional:\")\n",
    "resultados_anova"
   ]
  },
  {
   "cell_type": "code",
   "execution_count": 5,
   "metadata": {},
   "outputs": [
    {
     "data": {
      "text/plain": [
       "{'media_geral': 26.2,\n",
       " 'soma_quadrados_entre_grupos': 186.39999999999998,\n",
       " 'soma_quadrados_dentro_grupos': 52.800000000000004,\n",
       " 'graus_liberdade_entre_grupos': 3,\n",
       " 'graus_liberdade_dentro_grupos': 16,\n",
       " 'valor_f': 18.828282828282823,\n",
       " 'valor_p': 1.686790815091932e-05,\n",
       " 'alpha': 0.01,\n",
       " 'resultado': 'Há diferenças significativas entre os grupos (rejeitamos a hipótese nula).'}"
      ]
     },
     "execution_count": 5,
     "metadata": {},
     "output_type": "execute_result"
    }
   ],
   "source": [
    "import math\n",
    "import scipy.stats as stats\n",
    "\n",
    "# Dados dos grupos (média, tamanho da amostra, desvio padrão)\n",
    "grupo1 = (24.8, 5, math.sqrt(5.2))\n",
    "grupo2 = (30.0, 5, math.sqrt(2.5))\n",
    "grupo3 = (22.0, 5, math.sqrt(2.5))\n",
    "grupo4 = (28.0, 5, math.sqrt(3.0))\n",
    "\n",
    "# Função para calcular a ANOVA de uma via comum\n",
    "def anova_uma_via(*grupos):\n",
    "    # Extrair médias, tamanhos e variâncias dos grupos\n",
    "    medias = [g[0] for g in grupos]\n",
    "    n = [g[1] for g in grupos]\n",
    "    variancias = [g[2]**2 for g in grupos]\n",
    "    \n",
    "    # Calcular a média geral\n",
    "    total_amostras = sum(n)\n",
    "    media_geral = sum(m * ni for m, ni in zip(medias, n)) / total_amostras\n",
    "    \n",
    "    # Calcular a soma dos quadrados entre grupos (SQ_entre)\n",
    "    sq_entre = sum(ni * (mi - media_geral)**2 for mi, ni in zip(medias, n))\n",
    "    \n",
    "    # Calcular a soma dos quadrados dentro dos grupos (SQ_dentro)\n",
    "    sq_dentro = sum((ni - 1) * vi for ni, vi in zip(n, variancias))\n",
    "    \n",
    "    # Graus de liberdade\n",
    "    gl_entre = len(grupos) - 1  # Graus de liberdade entre grupos\n",
    "    gl_dentro = total_amostras - len(grupos)  # Graus de liberdade dentro dos grupos\n",
    "    \n",
    "    # Calcular o valor F\n",
    "    valor_f = (sq_entre / gl_entre) / (sq_dentro / gl_dentro)\n",
    "    \n",
    "    # Calcular o valor p\n",
    "    valor_p = 1 - stats.f.cdf(valor_f, gl_entre, gl_dentro)\n",
    "    \n",
    "    # Definir o nível de significância (alpha)\n",
    "    alpha = 0.01\n",
    "    \n",
    "    # Decisão sobre a hipótese nula\n",
    "    if valor_p < alpha:\n",
    "        resultado = \"Há diferenças significativas entre os grupos (rejeitamos a hipótese nula).\"\n",
    "    else:\n",
    "        resultado = \"Não há diferenças significativas entre os grupos (não rejeitamos a hipótese nula).\"\n",
    "    \n",
    "    return {\n",
    "        'media_geral': media_geral,\n",
    "        'soma_quadrados_entre_grupos': sq_entre,\n",
    "        'soma_quadrados_dentro_grupos': sq_dentro,\n",
    "        'graus_liberdade_entre_grupos': gl_entre,\n",
    "        'graus_liberdade_dentro_grupos': gl_dentro,\n",
    "        'valor_f': valor_f,\n",
    "        'valor_p': valor_p,\n",
    "        'alpha': alpha,\n",
    "        'resultado': resultado\n",
    "    }\n",
    "\n",
    "# Executar a ANOVA de uma via\n",
    "resultado_anova = anova_uma_via(grupo1, grupo2, grupo3, grupo4)\n",
    "resultado_anova"
   ]
  },
  {
   "cell_type": "code",
   "execution_count": 14,
   "metadata": {},
   "outputs": [
    {
     "name": "stdout",
     "output_type": "stream",
     "text": [
      "\n",
      "Resultados do Teste ANOVA de Welch:\n"
     ]
    },
    {
     "data": {
      "text/plain": [
       "{'media_ponderada': 26.328820116054157,\n",
       " 'sq_entre': 71.3346228239845,\n",
       " 'gl_ajustados': 5.00562289609581,\n",
       " 'valor_f': 23.778207607994833,\n",
       " 'valor_p': 0.0021738037914755975,\n",
       " 'alpha': 0.01,\n",
       " 'resultado': 'Há diferenças significativas entre os grupos (rejeitamos a hipótese nula).'}"
      ]
     },
     "execution_count": 14,
     "metadata": {},
     "output_type": "execute_result"
    }
   ],
   "source": [
    "# Teste ANOVA de Welch\n",
    "anova_welch_teste = ANOVAWelch(grupo1, grupo2, grupo3, grupo4)\n",
    "resultados_anova_welch = anova_welch_teste.realizar_teste(alpha=0.01)\n",
    "print(\"\\nResultados do Teste ANOVA de Welch:\")\n",
    "resultados_anova_welch"
   ]
  },
  {
   "cell_type": "code",
   "execution_count": 1,
   "metadata": {},
   "outputs": [
    {
     "data": {
      "text/plain": [
       "{'media_ponderada': 26.328820116054157,\n",
       " 'sq_entre': 71.3346228239845,\n",
       " 'gl_ajustados': 15.01686868828743,\n",
       " 'valor_f': 23.778207607994833,\n",
       " 'valor_p': 5.898140028937071e-06,\n",
       " 'alpha': 0.01,\n",
       " 'resultado': 'Há diferenças significativas entre os grupos (rejeitamos a hipótese nula).'}"
      ]
     },
     "execution_count": 1,
     "metadata": {},
     "output_type": "execute_result"
    }
   ],
   "source": [
    "import math\n",
    "import scipy.stats as stats\n",
    "\n",
    "# Estatísticas agregadas dos grupos (média, tamanho da amostra, desvio padrão)\n",
    "grupo1 = (24.8, 5, math.sqrt(5.2))\n",
    "grupo2 = (30.0, 5, math.sqrt(2.5))\n",
    "grupo3 = (22.0, 5, math.sqrt(2.5))\n",
    "grupo4 = (28.0, 5, math.sqrt(3.0))\n",
    "\n",
    "# Função para calcular a ANOVA de Welch\n",
    "def anova_welch(*grupos):\n",
    "    medias = [g[0] for g in grupos]\n",
    "    n = [g[1] for g in grupos]\n",
    "    variancias = [g[2]**2 for g in grupos]\n",
    "    \n",
    "    # Cálculo da média ponderada\n",
    "    pesos = [ni / vi for ni, vi in zip(n, variancias)]\n",
    "    media_ponderada = sum(peso * media for peso, media in zip(pesos, medias)) / sum(pesos)\n",
    "    \n",
    "    # Cálculo da soma dos quadrados entre grupos (SQ_entre)\n",
    "    sq_entre = sum(peso * (media - media_ponderada)**2 for peso, media in zip(pesos, medias))\n",
    "    \n",
    "    # Cálculo dos graus de liberdade ajustados\n",
    "    gl_ajustados = (sum(pesos)**2) / sum((peso**2) / (ni - 1) for peso, ni in zip(pesos, n))\n",
    "    \n",
    "    # Cálculo do valor F\n",
    "    valor_f = sq_entre / (len(grupos) - 1)\n",
    "    \n",
    "    # Cálculo do valor p\n",
    "    valor_p = 1 - stats.f.cdf(valor_f, len(grupos) - 1, gl_ajustados)\n",
    "    \n",
    "    # Definição do nível de significância (alpha)\n",
    "    alpha = 0.01\n",
    "    \n",
    "    # Decisão sobre a hipótese nula\n",
    "    if valor_p < alpha:\n",
    "        resultado = \"Há diferenças significativas entre os grupos (rejeitamos a hipótese nula).\"\n",
    "    else:\n",
    "        resultado = \"Não há diferenças significativas entre os grupos (não rejeitamos a hipótese nula).\"\n",
    "    \n",
    "    return {\n",
    "        'media_ponderada': media_ponderada,\n",
    "        'sq_entre': sq_entre,\n",
    "        'gl_ajustados': gl_ajustados,\n",
    "        'valor_f': valor_f,\n",
    "        'valor_p': valor_p,\n",
    "        'alpha': alpha,\n",
    "        'resultado': resultado\n",
    "    }\n",
    "\n",
    "# Executar a ANOVA de Welch\n",
    "resultado_anova = anova_welch(grupo1, grupo2, grupo3, grupo4)\n",
    "resultado_anova"
   ]
  },
  {
   "cell_type": "code",
   "execution_count": null,
   "metadata": {},
   "outputs": [],
   "source": []
  }
 ],
 "metadata": {
  "kernelspec": {
   "display_name": "base",
   "language": "python",
   "name": "python3"
  },
  "language_info": {
   "codemirror_mode": {
    "name": "ipython",
    "version": 3
   },
   "file_extension": ".py",
   "mimetype": "text/x-python",
   "name": "python",
   "nbconvert_exporter": "python",
   "pygments_lexer": "ipython3",
   "version": "3.12.4"
  }
 },
 "nbformat": 4,
 "nbformat_minor": 2
}
