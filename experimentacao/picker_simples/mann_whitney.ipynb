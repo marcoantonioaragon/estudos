{
 "cells": [
  {
   "cell_type": "code",
   "execution_count": 1,
   "metadata": {},
   "outputs": [],
   "source": [
    "from mann_whitney import TesteMannWhitney"
   ]
  },
  {
   "cell_type": "code",
   "execution_count": 2,
   "metadata": {},
   "outputs": [
    {
     "name": "stdout",
     "output_type": "stream",
     "text": [
      "Resultados do Teste de Mann-Whitney:\n"
     ]
    },
    {
     "data": {
      "text/plain": [
       "{'estatistica_u': -25.0,\n",
       " 'valor_p': 3.354454491955039e-10,\n",
       " 'alpha': 0.05,\n",
       " 'resultado': 'Há diferenças significativas entre as medianas (rejeitamos a hipótese nula).'}"
      ]
     },
     "execution_count": 2,
     "metadata": {},
     "output_type": "execute_result"
    }
   ],
   "source": [
    "# Estatísticas agregadas dos grupos\n",
    "tamanho_amostra_grupo_a = 20  # Tamanho da amostra do grupo A\n",
    "tamanho_amostra_grupo_b = 25  # Tamanho da amostra do grupo B\n",
    "soma_postos_grupo_a = 250  # Soma dos postos do grupo A\n",
    "soma_postos_grupo_b = 300  # Soma dos postos do grupo B\n",
    "\n",
    "# Criando uma instância da classe TesteMannWhitney\n",
    "teste = TesteMannWhitney(tamanho_amostra_grupo_a, tamanho_amostra_grupo_b, soma_postos_grupo_a, soma_postos_grupo_b)\n",
    "\n",
    "# Realizando o teste\n",
    "resultados = teste.realizar_teste(alpha=0.05)\n",
    "\n",
    "# Exibindo os resultados\n",
    "print(\"Resultados do Teste de Mann-Whitney:\")\n",
    "resultados"
   ]
  }
 ],
 "metadata": {
  "kernelspec": {
   "display_name": "base",
   "language": "python",
   "name": "python3"
  },
  "language_info": {
   "codemirror_mode": {
    "name": "ipython",
    "version": 3
   },
   "file_extension": ".py",
   "mimetype": "text/x-python",
   "name": "python",
   "nbconvert_exporter": "python",
   "pygments_lexer": "ipython3",
   "version": "3.12.4"
  }
 },
 "nbformat": 4,
 "nbformat_minor": 2
}
