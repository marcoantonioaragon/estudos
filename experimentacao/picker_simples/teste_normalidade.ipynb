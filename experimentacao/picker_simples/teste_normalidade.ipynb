{
 "cells": [
  {
   "cell_type": "code",
   "execution_count": 7,
   "metadata": {},
   "outputs": [],
   "source": [
    "from teste_normalidade import TesteNormalidade\n",
    "\n",
    "# Definindo parâmetros\n",
    "media = 0.0455\n",
    "desvio_padrao = 1\n",
    "tamanho_amostra = 1000"
   ]
  },
  {
   "cell_type": "code",
   "execution_count": 8,
   "metadata": {},
   "outputs": [
    {
     "name": "stdout",
     "output_type": "stream",
     "text": [
      "Resultados detalhados:\n",
      "Tamanho da amostra: 1000\n",
      "Nível de significância (alpha): 0.01\n",
      "\n",
      "Teste de Shapiro-Wilk:\n",
      "Aplicável: True\n",
      "Estatística W: 0.0\n",
      "P-valor: 0.5000000021944261\n",
      "Normal: True\n",
      "\n",
      "Teste de Anderson-Darling:\n",
      "Estatística A²: 1006.1999071128662\n",
      "Normal: False\n",
      "\n",
      "Teste de Kolmogorov-Smirnov:\n",
      "Estatística D: 0.01594408944605158\n",
      "Normal: True\n",
      "\n",
      "Decisão final:\n",
      "Os dados são considerados normais (ensemble).\n"
     ]
    }
   ],
   "source": [
    "# Criando uma instância da classe\n",
    "teste = TesteNormalidade(media, desvio_padrao, tamanho_amostra)\n",
    "\n",
    "# Realizando o ensemble de testes\n",
    "resultados = teste.ensemble_normalidade(alpha=0.01)\n",
    "\n",
    "# Exibindo os resultados\n",
    "print(\"Resultados detalhados:\")\n",
    "print(f\"Tamanho da amostra: {resultados['tamanho_amostra']}\")\n",
    "print(f\"Nível de significância (alpha): {resultados['alpha']}\")\n",
    "print(\"\\nTeste de Shapiro-Wilk:\")\n",
    "print(f\"Aplicável: {resultados['shapiro_wilk']['aplicavel']}\")\n",
    "if resultados[\"shapiro_wilk\"][\"aplicavel\"]:\n",
    "    print(f\"Estatística W: {resultados['shapiro_wilk']['estatistica']}\")\n",
    "    print(f\"P-valor: {resultados['shapiro_wilk']['p_valor']}\")\n",
    "print(f\"Normal: {resultados['shapiro_wilk']['normal']}\")\n",
    "print(\"\\nTeste de Anderson-Darling:\")\n",
    "print(f\"Estatística A²: {resultados['anderson_darling']['estatistica']}\")\n",
    "print(f\"Normal: {resultados['anderson_darling']['normal']}\")\n",
    "print(\"\\nTeste de Kolmogorov-Smirnov:\")\n",
    "print(f\"Estatística D: {resultados['kolmogorov_smirnov']['estatistica']}\")\n",
    "print(f\"Normal: {resultados['kolmogorov_smirnov']['normal']}\")\n",
    "print(\"\\nDecisão final:\")\n",
    "print(resultados[\"decisao_final\"])"
   ]
  },
  {
   "cell_type": "code",
   "execution_count": null,
   "metadata": {},
   "outputs": [],
   "source": []
  }
 ],
 "metadata": {
  "kernelspec": {
   "display_name": "Python 3",
   "language": "python",
   "name": "python3"
  },
  "language_info": {
   "codemirror_mode": {
    "name": "ipython",
    "version": 3
   },
   "file_extension": ".py",
   "mimetype": "text/x-python",
   "name": "python",
   "nbconvert_exporter": "python",
   "pygments_lexer": "ipython3",
   "version": "3.12.7"
  }
 },
 "nbformat": 4,
 "nbformat_minor": 2
}
