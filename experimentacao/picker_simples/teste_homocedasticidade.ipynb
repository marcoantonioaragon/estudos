{
 "cells": [
  {
   "cell_type": "code",
   "execution_count": 1,
   "metadata": {},
   "outputs": [],
   "source": [
    "from teste_homocedasticidade import TesteHomocedasticidade"
   ]
  },
  {
   "cell_type": "code",
   "execution_count": 2,
   "metadata": {},
   "outputs": [
    {
     "name": "stdout",
     "output_type": "stream",
     "text": [
      "{'teste_utilizado': 'Bartlett', 'estatistica': 0.36831862175097685, 'valor_critico': 3.841, 'alpha': 0.05, 'homocedastico': True, 'mensagem': 'Os dados são homocedásticos ao nível de significância 0.05.'}\n"
     ]
    }
   ],
   "source": [
    "# Dados agregados dos grupos\n",
    "grupos_agregados = [\n",
    "    {\"variancia\": 1.2, \"tamanho\": 30, \"media\": 5.0, \"normal\": True},  # Grupo 1\n",
    "    {\"variancia\": 1.5, \"tamanho\": 30, \"media\": 5.2, \"normal\": True},  # Grupo 2\n",
    "    {\"variancia\": 1.3, \"tamanho\": 30, \"media\": 5.1, \"normal\": True},  # Grupo 3\n",
    "]\n",
    "\n",
    "# Realiza o teste de homocedasticidade\n",
    "teste = TesteHomocedasticidade(grupos_agregados)\n",
    "resultados = teste.realizar_teste(alpha=0.05)\n",
    "print(resultados)"
   ]
  },
  {
   "cell_type": "code",
   "execution_count": null,
   "metadata": {},
   "outputs": [],
   "source": []
  }
 ],
 "metadata": {
  "kernelspec": {
   "display_name": "Python 3",
   "language": "python",
   "name": "python3"
  },
  "language_info": {
   "codemirror_mode": {
    "name": "ipython",
    "version": 3
   },
   "file_extension": ".py",
   "mimetype": "text/x-python",
   "name": "python",
   "nbconvert_exporter": "python",
   "pygments_lexer": "ipython3",
   "version": "3.12.7"
  }
 },
 "nbformat": 4,
 "nbformat_minor": 2
}
