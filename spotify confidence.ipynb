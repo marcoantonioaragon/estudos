{
  "nbformat": 4,
  "nbformat_minor": 0,
  "metadata": {
    "colab": {
      "provenance": [],
      "authorship_tag": "ABX9TyNAkxvzxQyq0T+z4MGbr8Ec",
      "include_colab_link": true
    },
    "kernelspec": {
      "name": "python3",
      "display_name": "Python 3"
    },
    "language_info": {
      "name": "python"
    }
  },
  "cells": [
    {
      "cell_type": "markdown",
      "metadata": {
        "id": "view-in-github",
        "colab_type": "text"
      },
      "source": [
        "<a href=\"https://colab.research.google.com/github/marcoantonioaragon/aragon-marco/blob/main/spotify%20confidence.ipynb\" target=\"_parent\"><img src=\"https://colab.research.google.com/assets/colab-badge.svg\" alt=\"Open In Colab\"/></a>"
      ]
    },
    {
      "cell_type": "code",
      "execution_count": 1,
      "metadata": {
        "colab": {
          "base_uri": "https://localhost:8080/"
        },
        "id": "njtnHAGUmbze",
        "outputId": "1fb623ff-99bc-4667-b668-f697f002af37"
      },
      "outputs": [
        {
          "output_type": "stream",
          "name": "stdout",
          "text": [
            "Cloning into 'confidence'...\n",
            "remote: Enumerating objects: 1863, done.\u001b[K\n",
            "remote: Counting objects: 100% (1009/1009), done.\u001b[K\n",
            "remote: Compressing objects: 100% (454/454), done.\u001b[K\n",
            "remote: Total 1863 (delta 771), reused 579 (delta 552), pack-reused 854\u001b[K\n",
            "Receiving objects: 100% (1863/1863), 9.50 MiB | 25.95 MiB/s, done.\n",
            "Resolving deltas: 100% (1437/1437), done.\n"
          ]
        }
      ],
      "source": [
        "!git clone https://github.com/spotify/confidence.git"
      ]
    }
  ]
}